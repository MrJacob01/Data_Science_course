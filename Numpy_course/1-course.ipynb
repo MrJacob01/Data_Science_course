{
 "cells": [
  {
   "cell_type": "code",
   "execution_count": 2,
   "id": "cc1f79e0-dd01-4408-bd6c-55b75637b5e9",
   "metadata": {},
   "outputs": [],
   "source": [
    "import numpy as np"
   ]
  },
  {
   "cell_type": "code",
   "execution_count": 3,
   "id": "2ed3feb5-47db-433e-acf3-fe8f6661ada4",
   "metadata": {},
   "outputs": [
    {
     "name": "stdout",
     "output_type": "stream",
     "text": [
      "[1 5 6 7]\n"
     ]
    }
   ],
   "source": [
    "array_1 = np.array([1, 5, 6, 7])\n",
    "print(array_1)"
   ]
  },
  {
   "cell_type": "code",
   "execution_count": 4,
   "id": "199723a1-f409-4edb-8716-4de0d228eabd",
   "metadata": {},
   "outputs": [
    {
     "name": "stdout",
     "output_type": "stream",
     "text": [
      "[7 2 4 1]\n"
     ]
    }
   ],
   "source": [
    "array_2 = np.array([7, 2, 4, 1])\n",
    "print(array_2)"
   ]
  },
  {
   "cell_type": "code",
   "execution_count": 26,
   "id": "e1f910f0-d185-4ba1-af59-5f43c882a331",
   "metadata": {},
   "outputs": [
    {
     "name": "stdout",
     "output_type": "stream",
     "text": [
      "(4,)\n",
      "(4,)\n"
     ]
    }
   ],
   "source": [
    "#Lens of arrays\n",
    "\n",
    "print(array_1.shape)\n",
    "print(array_2.shape)"
   ]
  },
  {
   "cell_type": "code",
   "execution_count": 6,
   "id": "2f8e81a7-de22-43f6-8774-b79e9891bbd8",
   "metadata": {},
   "outputs": [
    {
     "name": "stdout",
     "output_type": "stream",
     "text": [
      "int64\n"
     ]
    }
   ],
   "source": [
    "print(array_1.dtype)"
   ]
  },
  {
   "cell_type": "code",
   "execution_count": 7,
   "id": "9d9d0f8f-5875-420d-99a0-564fe34a325b",
   "metadata": {},
   "outputs": [
    {
     "name": "stdout",
     "output_type": "stream",
     "text": [
      "[3 7 8 9]\n"
     ]
    }
   ],
   "source": [
    "print(array_1 + 2)"
   ]
  },
  {
   "cell_type": "code",
   "execution_count": 8,
   "id": "f9559152-e2d5-4b40-a354-d15dcb455764",
   "metadata": {},
   "outputs": [
    {
     "name": "stdout",
     "output_type": "stream",
     "text": [
      "[14  4  8  2]\n"
     ]
    }
   ],
   "source": [
    "print(array_2 * 2)"
   ]
  },
  {
   "cell_type": "code",
   "execution_count": 9,
   "id": "60c0dc5c-944a-4d2c-a80e-55dfd4393f90",
   "metadata": {},
   "outputs": [
    {
     "name": "stdout",
     "output_type": "stream",
     "text": [
      "[ 8  7 10  8]\n"
     ]
    }
   ],
   "source": [
    "print(array_1 + array_2)"
   ]
  },
  {
   "cell_type": "code",
   "execution_count": 11,
   "id": "59d33f79-46f2-4a68-9d65-e2d84783c5f8",
   "metadata": {},
   "outputs": [
    {
     "name": "stdout",
     "output_type": "stream",
     "text": [
      "[[0. 0. 0.]\n",
      " [0. 0. 0.]]\n"
     ]
    }
   ],
   "source": [
    "print(np.zeros((2, 3)))"
   ]
  },
  {
   "cell_type": "code",
   "execution_count": 12,
   "id": "0c59ea13-be69-4aec-8432-d40d42ce0c30",
   "metadata": {},
   "outputs": [
    {
     "name": "stdout",
     "output_type": "stream",
     "text": [
      "[[1. 1. 1. 1.]\n",
      " [1. 1. 1. 1.]\n",
      " [1. 1. 1. 1.]]\n"
     ]
    }
   ],
   "source": [
    "print(np.ones((3, 4)))"
   ]
  },
  {
   "cell_type": "code",
   "execution_count": null,
   "id": "e07a4c58-31b3-47ea-8968-b13db55bb4b6",
   "metadata": {},
   "outputs": [],
   "source": []
  },
  {
   "cell_type": "code",
   "execution_count": 27,
   "id": "e5317b06-fb45-4867-a43d-afec99004f2a",
   "metadata": {},
   "outputs": [
    {
     "name": "stdout",
     "output_type": "stream",
     "text": [
      "[0 2 4 6 8]\n"
     ]
    }
   ],
   "source": [
    "# We can create arrays using arange function Example: We need from 0 to 10 numbers that can divide to 2\n",
    "\n",
    "print(np.arange(0, 10, 2))"
   ]
  },
  {
   "cell_type": "code",
   "execution_count": null,
   "id": "5800b177-11ea-4e18-96d6-de4e44772dcf",
   "metadata": {},
   "outputs": [],
   "source": []
  },
  {
   "cell_type": "code",
   "execution_count": 25,
   "id": "7cdfb706-ca3c-4d18-bdbb-bffc7bc1ee7d",
   "metadata": {},
   "outputs": [
    {
     "name": "stdout",
     "output_type": "stream",
     "text": [
      "[0.46081052 0.25940515 0.22567438 0.98015096 0.05192986]\n",
      "[[0.9923439  0.3056096 ]\n",
      " [0.55892707 0.66657597]\n",
      " [0.88361137 0.50418341]\n",
      " [0.85630183 0.98918249]\n",
      " [0.39095661 0.14404821]]\n"
     ]
    }
   ],
   "source": [
    "# Random floats\n",
    "print(np.random.rand(5))\n",
    "print(np.random.rand(5, 2))"
   ]
  },
  {
   "cell_type": "code",
   "execution_count": 23,
   "id": "aeffe524-0c6c-4c64-8e2b-07ec79ce3d0c",
   "metadata": {},
   "outputs": [
    {
     "name": "stdout",
     "output_type": "stream",
     "text": [
      "5\n",
      "[5 1 9 7 6]\n"
     ]
    }
   ],
   "source": [
    "# Random integer\n",
    "print(np.random.randint(1, 10))\n",
    "print(np.random.randint(1, 10, 5))"
   ]
  },
  {
   "cell_type": "code",
   "execution_count": 28,
   "id": "aeb7bba1-efa3-46d9-80ef-91e14f1d3a59",
   "metadata": {},
   "outputs": [
    {
     "name": "stdout",
     "output_type": "stream",
     "text": [
      "1\n",
      "[5]\n",
      "7\n"
     ]
    }
   ],
   "source": [
    "# Indexing array\n",
    "\n",
    "print(array_1[0])\n",
    "print(array_1[1:2])\n",
    "print(array_1[-1])"
   ]
  },
  {
   "cell_type": "code",
   "execution_count": 44,
   "id": "295c5c45-be5c-492d-bc4f-46b6349ac6f3",
   "metadata": {},
   "outputs": [
    {
     "name": "stdout",
     "output_type": "stream",
     "text": [
      "[1 4 3 3 2]\n",
      "\n",
      "\n",
      "Multiply array to 3 number =  [ 3 12  9  9  6]\n",
      "\n",
      "\n",
      "Even values  [12  6]\n"
     ]
    }
   ],
   "source": [
    "# Exercise\n",
    "\n",
    "array = np.random.randint(1, 10, 5)\n",
    "print(array)\n",
    "print('\\n')\n",
    "array = array * 3\n",
    "print(\"Multiply array to 3 number = \", array)\n",
    "print('\\n')\n",
    "print(\"Even values \", array[array%2==0])"
   ]
  },
  {
   "cell_type": "code",
   "execution_count": null,
   "id": "c95ecafb-3eb8-48f0-8623-2e9d10528caa",
   "metadata": {},
   "outputs": [],
   "source": []
  },
  {
   "cell_type": "code",
   "execution_count": null,
   "id": "a88fe0a9-05eb-499e-ab16-7329f3ece2be",
   "metadata": {},
   "outputs": [],
   "source": []
  }
 ],
 "metadata": {
  "kernelspec": {
   "display_name": "Python 3 (ipykernel)",
   "language": "python",
   "name": "python3"
  },
  "language_info": {
   "codemirror_mode": {
    "name": "ipython",
    "version": 3
   },
   "file_extension": ".py",
   "mimetype": "text/x-python",
   "name": "python",
   "nbconvert_exporter": "python",
   "pygments_lexer": "ipython3",
   "version": "3.11.9"
  }
 },
 "nbformat": 4,
 "nbformat_minor": 5
}
