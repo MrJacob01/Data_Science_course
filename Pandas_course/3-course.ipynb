{
 "cells": [
  {
   "cell_type": "code",
   "execution_count": 1,
   "id": "500f5910-b026-465c-a70b-185051985d7a",
   "metadata": {},
   "outputs": [],
   "source": [
    "import pandas as pd\n",
    "import numpy as np"
   ]
  },
  {
   "cell_type": "code",
   "execution_count": 2,
   "id": "5e4a8d9e-e592-47ba-9f5e-48e47e6f6924",
   "metadata": {},
   "outputs": [],
   "source": [
    "data = {\n",
    "    'Name': ['Alice', 'Bob', 'Charlie', 'David'],\n",
    "    'Age': [25, np.nan, 35, 40],\n",
    "    'City': ['Tashkent', 'Samarkand', np.nan, 'Bukhara']\n",
    "}"
   ]
  },
  {
   "cell_type": "code",
   "execution_count": 3,
   "id": "5c66466a-660d-4ebf-8921-6200cb93609d",
   "metadata": {},
   "outputs": [],
   "source": [
    "df = pd.DataFrame(data)"
   ]
  },
  {
   "cell_type": "code",
   "execution_count": 4,
   "id": "517b5e5f-cc7d-4111-a317-0d66e1099b66",
   "metadata": {},
   "outputs": [
    {
     "name": "stdout",
     "output_type": "stream",
     "text": [
      "    Name    Age   City\n",
      "0  False  False  False\n",
      "1  False   True  False\n",
      "2  False  False   True\n",
      "3  False  False  False\n"
     ]
    }
   ],
   "source": [
    "# Check missing values\n",
    "print(df.isnull())"
   ]
  },
  {
   "cell_type": "code",
   "execution_count": 5,
   "id": "a26539a9-1334-4090-8392-469f39f878b8",
   "metadata": {},
   "outputs": [],
   "source": [
    "# Drop rows with missing values\n",
    "df_drop = df.dropna()"
   ]
  },
  {
   "cell_type": "code",
   "execution_count": 6,
   "id": "077f9fe1-83d6-4f17-8b78-c9b48bc9de84",
   "metadata": {},
   "outputs": [
    {
     "data": {
      "text/html": [
       "<div>\n",
       "<style scoped>\n",
       "    .dataframe tbody tr th:only-of-type {\n",
       "        vertical-align: middle;\n",
       "    }\n",
       "\n",
       "    .dataframe tbody tr th {\n",
       "        vertical-align: top;\n",
       "    }\n",
       "\n",
       "    .dataframe thead th {\n",
       "        text-align: right;\n",
       "    }\n",
       "</style>\n",
       "<table border=\"1\" class=\"dataframe\">\n",
       "  <thead>\n",
       "    <tr style=\"text-align: right;\">\n",
       "      <th></th>\n",
       "      <th>Name</th>\n",
       "      <th>Age</th>\n",
       "      <th>City</th>\n",
       "    </tr>\n",
       "  </thead>\n",
       "  <tbody>\n",
       "    <tr>\n",
       "      <th>0</th>\n",
       "      <td>Alice</td>\n",
       "      <td>25.0</td>\n",
       "      <td>Tashkent</td>\n",
       "    </tr>\n",
       "    <tr>\n",
       "      <th>3</th>\n",
       "      <td>David</td>\n",
       "      <td>40.0</td>\n",
       "      <td>Bukhara</td>\n",
       "    </tr>\n",
       "  </tbody>\n",
       "</table>\n",
       "</div>"
      ],
      "text/plain": [
       "    Name   Age      City\n",
       "0  Alice  25.0  Tashkent\n",
       "3  David  40.0   Bukhara"
      ]
     },
     "execution_count": 6,
     "metadata": {},
     "output_type": "execute_result"
    }
   ],
   "source": [
    "df_drop"
   ]
  },
  {
   "cell_type": "code",
   "execution_count": 9,
   "id": "499ec102-6d86-4f29-a4ef-9cc5aa25a39c",
   "metadata": {},
   "outputs": [
    {
     "name": "stdout",
     "output_type": "stream",
     "text": [
      "      Name        Age       City\n",
      "0    Alice  25.000000   Tashkent\n",
      "1      Bob  33.333333  Samarkand\n",
      "2  Charlie  35.000000    Unknown\n",
      "3    David  40.000000    Bukhara\n"
     ]
    }
   ],
   "source": [
    "# Fill missing values\n",
    "df_fill = df.fillna({\n",
    "    'Age': df['Age'].mean(),\n",
    "    'City': 'Unknown'\n",
    "})\n",
    "print(df_fill)"
   ]
  },
  {
   "cell_type": "code",
   "execution_count": 17,
   "id": "00a4b44a-29c0-4cf5-bf04-53a5bb085dcb",
   "metadata": {},
   "outputs": [
    {
     "name": "stdout",
     "output_type": "stream",
     "text": [
      "      Name   Age   Location\n",
      "0    Alice  25.0   Tashkent\n",
      "1      Bob   NaN  Samarkand\n",
      "2  Charlie  35.0        NaN\n",
      "3    David  40.0    Bukhara\n"
     ]
    }
   ],
   "source": [
    "#To rename Column's name \n",
    "df1 = df.rename(columns={'City':'Location'})\n",
    "print(df1)"
   ]
  },
  {
   "cell_type": "code",
   "execution_count": 20,
   "id": "83da1168-54d4-4bbc-a54d-84bde9d75b24",
   "metadata": {},
   "outputs": [
    {
     "name": "stdout",
     "output_type": "stream",
     "text": [
      "      Name   Age   Location\n",
      "0    Alice  25.0   Tashkent\n",
      "1      Bob   NaN  Samarkand\n",
      "2  Charlie  35.0        NaN\n",
      "3    David  40.0    Bukhara\n"
     ]
    }
   ],
   "source": [
    "# To change same words\n",
    "df1['Location'] = df1['Location'].replace('Unknown', 'Nan')\n",
    "print(df1)"
   ]
  },
  {
   "cell_type": "code",
   "execution_count": 22,
   "id": "7245ea27-6070-4e66-8d98-9239efa738e2",
   "metadata": {},
   "outputs": [
    {
     "name": "stdout",
     "output_type": "stream",
     "text": [
      "    Age   Location\n",
      "0  25.0   Tashkent\n",
      "1   NaN  Samarkand\n",
      "2  35.0        NaN\n",
      "3  40.0    Bukhara\n"
     ]
    }
   ],
   "source": [
    "# To drop a column \n",
    "df1 = df1.drop(columns = ['Name'])\n",
    "print(df1)"
   ]
  },
  {
   "cell_type": "code",
   "execution_count": 24,
   "id": "fa8cbf65-72a5-49b4-a030-b03aab767537",
   "metadata": {},
   "outputs": [],
   "source": [
    "#Convert Data Types\n",
    "df['Age'] = df['Age'].astype(int)\n",
    "print(df.dtypes)"
   ]
  },
  {
   "cell_type": "code",
   "execution_count": 25,
   "id": "d3e6cbd8-6ca9-4da9-8930-62688a244a80",
   "metadata": {},
   "outputs": [
    {
     "name": "stdout",
     "output_type": "stream",
     "text": [
      "    Age   Location  IsAdult\n",
      "0  25.0   Tashkent    False\n",
      "1   NaN  Samarkand    False\n",
      "2  35.0        NaN     True\n",
      "3  40.0    Bukhara     True\n"
     ]
    }
   ],
   "source": [
    "# Example: Add a new column \"IsAdult\"\n",
    "df1['IsAdult'] = df1['Age'] >= 26\n",
    "print(df1)"
   ]
  },
  {
   "cell_type": "code",
   "execution_count": 27,
   "id": "fc0ed95e-4e49-4f36-85d1-594aa27880b4",
   "metadata": {},
   "outputs": [
    {
     "name": "stdout",
     "output_type": "stream",
     "text": [
      "    Age   Location  IsAdult           FullInfo\n",
      "0  25.0   Tashkent    False   Tashkent - False\n",
      "1   NaN  Samarkand    False  Samarkand - False\n",
      "2  35.0        NaN     True                NaN\n",
      "3  40.0    Bukhara     True     Bukhara - True\n"
     ]
    }
   ],
   "source": [
    "\n",
    "# Example: Create a full name\n",
    "df1['FullInfo'] = df1['Location'] + \" - \" + df1['IsAdult'].astype(str)\n",
    "print(df1)"
   ]
  },
  {
   "cell_type": "code",
   "execution_count": 44,
   "id": "436fd529-6720-4178-9bac-0dd05c9044c3",
   "metadata": {},
   "outputs": [
    {
     "name": "stdout",
     "output_type": "stream",
     "text": [
      "   Name  Score Country\n",
      "0  John     70     USA\n",
      "1  Mate     95     NaN\n",
      "2  Lisa     85   China\n",
      "---------------------------\n",
      "---------------------------\n",
      "   Name  Score Country\n",
      "0  John     70     USA\n",
      "1  Mate     95     USA\n",
      "2  Lisa     85   China\n",
      "---------------------------\n",
      "---------------------------\n",
      "   Name  Score Country  passed\n",
      "0  John     70     USA   False\n",
      "1  Mate     95     USA    True\n",
      "2  Lisa     85   China    True\n"
     ]
    }
   ],
   "source": [
    "#  Mini Exercise\n",
    "# Create a DataFrame with ['Name', 'Score', 'Country']\n",
    "# Introduce one NaN manually\n",
    "# Replace NaN with a value\n",
    "# Add a new column: Passed = Score >= 60\n",
    "\n",
    "data1 = {\n",
    "            'Name':['John', 'Mate', 'Lisa'],\n",
    "            'Score':[70, 95, 85],\n",
    "            'Country':['USA', np.nan,'China']\n",
    "        }\n",
    "\n",
    "\n",
    "data1 = pd.DataFrame(data1)\n",
    "print(data1)\n",
    "\n",
    "print('---------------------------\\n---------------------------')\n",
    "\n",
    "data1['Country'] = data1['Country'].replace(np.nan, 'USA')\n",
    "print(data1)\n",
    "\n",
    "print('---------------------------\\n---------------------------')\n",
    "\n",
    "data1['passed'] = data1['Score'] >= 71\n",
    "print(data1)"
   ]
  },
  {
   "cell_type": "code",
   "execution_count": null,
   "id": "657d9e2f-7904-4ce2-bb73-f99f4c917338",
   "metadata": {},
   "outputs": [],
   "source": []
  }
 ],
 "metadata": {
  "kernelspec": {
   "display_name": "Python 3 (ipykernel)",
   "language": "python",
   "name": "python3"
  },
  "language_info": {
   "codemirror_mode": {
    "name": "ipython",
    "version": 3
   },
   "file_extension": ".py",
   "mimetype": "text/x-python",
   "name": "python",
   "nbconvert_exporter": "python",
   "pygments_lexer": "ipython3",
   "version": "3.11.9"
  }
 },
 "nbformat": 4,
 "nbformat_minor": 5
}
